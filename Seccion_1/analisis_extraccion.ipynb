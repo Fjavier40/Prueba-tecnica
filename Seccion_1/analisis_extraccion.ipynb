{
 "cells": [
  {
   "cell_type": "code",
   "execution_count": null,
   "id": "8ce8ae81",
   "metadata": {},
   "outputs": [
    {
     "name": "stderr",
     "output_type": "stream",
     "text": [
      "C:\\Users\\Javo40\\AppData\\Local\\Temp\\ipykernel_24832\\2301318833.py:19: UserWarning: pandas only supports SQLAlchemy connectable (engine/connection) or database string URI or sqlite3 DBAPI2 connection. Other DBAPI2 objects are not tested. Please consider using SQLAlchemy.\n",
      "  df = pd.read_sql(query, conn,)\n"
     ]
    },
    {
     "name": "stdout",
     "output_type": "stream",
     "text": [
      "✅ Datos extraídos desde la base de datos\n"
     ]
    }
   ],
   "source": [
    "import pandas as pd\n",
    "from conexion import get_db_connection\n",
    "# -----------------------------\n",
    "# Conectarse a la base de datos\n",
    "# -----------------------------\n",
    "conn = get_db_connection()\n",
    "\n",
    "# -----------------------------\n",
    "# Leer la tabla raw_data\n",
    "# -----------------------------\n",
    "query = \"SELECT * FROM raw_data\"\n",
    "df = pd.read_sql(query, conn,)\n",
    "\n",
    "\n",
    "conn.close()\n",
    "print(\"✅ Datos extraídos desde la base de datos\")\n",
    "\n"
   ]
  },
  {
   "cell_type": "code",
   "execution_count": 65,
   "id": "20e692ce",
   "metadata": {},
   "outputs": [
    {
     "data": {
      "text/plain": [
       "(10000, 7)"
      ]
     },
     "execution_count": 65,
     "metadata": {},
     "output_type": "execute_result"
    }
   ],
   "source": [
    "df.shape"
   ]
  },
  {
   "cell_type": "code",
   "execution_count": 66,
   "id": "0565f931",
   "metadata": {},
   "outputs": [
    {
     "data": {
      "text/plain": [
       "Index(['id', 'name', 'company_id', 'amount', 'status', 'created_at',\n",
       "       'paid_at'],\n",
       "      dtype='object')"
      ]
     },
     "execution_count": 66,
     "metadata": {},
     "output_type": "execute_result"
    }
   ],
   "source": [
    "df.columns"
   ]
  },
  {
   "cell_type": "code",
   "execution_count": 67,
   "id": "0ba3fe21",
   "metadata": {},
   "outputs": [
    {
     "name": "stdout",
     "output_type": "stream",
     "text": [
      "<class 'pandas.core.frame.DataFrame'>\n",
      "RangeIndex: 10000 entries, 0 to 9999\n",
      "Data columns (total 7 columns):\n",
      " #   Column      Non-Null Count  Dtype \n",
      "---  ------      --------------  ----- \n",
      " 0   id          9997 non-null   object\n",
      " 1   name        9997 non-null   object\n",
      " 2   company_id  9996 non-null   object\n",
      " 3   amount      10000 non-null  object\n",
      " 4   status      10000 non-null  object\n",
      " 5   created_at  10000 non-null  object\n",
      " 6   paid_at     6009 non-null   object\n",
      "dtypes: object(7)\n",
      "memory usage: 547.0+ KB\n"
     ]
    }
   ],
   "source": [
    "df.info()"
   ]
  },
  {
   "cell_type": "code",
   "execution_count": 68,
   "id": "5be49bff",
   "metadata": {},
   "outputs": [
    {
     "data": {
      "text/html": [
       "<div>\n",
       "<style scoped>\n",
       "    .dataframe tbody tr th:only-of-type {\n",
       "        vertical-align: middle;\n",
       "    }\n",
       "\n",
       "    .dataframe tbody tr th {\n",
       "        vertical-align: top;\n",
       "    }\n",
       "\n",
       "    .dataframe thead th {\n",
       "        text-align: right;\n",
       "    }\n",
       "</style>\n",
       "<table border=\"1\" class=\"dataframe\">\n",
       "  <thead>\n",
       "    <tr style=\"text-align: right;\">\n",
       "      <th></th>\n",
       "      <th>id</th>\n",
       "      <th>name</th>\n",
       "      <th>company_id</th>\n",
       "      <th>amount</th>\n",
       "      <th>status</th>\n",
       "      <th>created_at</th>\n",
       "      <th>paid_at</th>\n",
       "    </tr>\n",
       "  </thead>\n",
       "  <tbody>\n",
       "    <tr>\n",
       "      <th>count</th>\n",
       "      <td>9997</td>\n",
       "      <td>9997</td>\n",
       "      <td>9996</td>\n",
       "      <td>10000</td>\n",
       "      <td>10000</td>\n",
       "      <td>10000</td>\n",
       "      <td>6009</td>\n",
       "    </tr>\n",
       "    <tr>\n",
       "      <th>unique</th>\n",
       "      <td>9997</td>\n",
       "      <td>4</td>\n",
       "      <td>3</td>\n",
       "      <td>5771</td>\n",
       "      <td>10</td>\n",
       "      <td>143</td>\n",
       "      <td>140</td>\n",
       "    </tr>\n",
       "    <tr>\n",
       "      <th>top</th>\n",
       "      <td>48ba4bdbfb56ceebb32f2bd0263e759be942af3d</td>\n",
       "      <td>MiPasajefy</td>\n",
       "      <td>cbf1c8b09cd5b549416d49d220a40cbd317f952e</td>\n",
       "      <td>3.0</td>\n",
       "      <td>paid</td>\n",
       "      <td>2019-03-01</td>\n",
       "      <td>2019-02-27</td>\n",
       "    </tr>\n",
       "    <tr>\n",
       "      <th>freq</th>\n",
       "      <td>1</td>\n",
       "      <td>9899</td>\n",
       "      <td>9899</td>\n",
       "      <td>1980</td>\n",
       "      <td>5892</td>\n",
       "      <td>117</td>\n",
       "      <td>71</td>\n",
       "    </tr>\n",
       "  </tbody>\n",
       "</table>\n",
       "</div>"
      ],
      "text/plain": [
       "                                              id        name  \\\n",
       "count                                       9997        9997   \n",
       "unique                                      9997           4   \n",
       "top     48ba4bdbfb56ceebb32f2bd0263e759be942af3d  MiPasajefy   \n",
       "freq                                           1        9899   \n",
       "\n",
       "                                      company_id amount status  created_at  \\\n",
       "count                                       9996  10000  10000       10000   \n",
       "unique                                         3   5771     10         143   \n",
       "top     cbf1c8b09cd5b549416d49d220a40cbd317f952e    3.0   paid  2019-03-01   \n",
       "freq                                        9899   1980   5892         117   \n",
       "\n",
       "           paid_at  \n",
       "count         6009  \n",
       "unique         140  \n",
       "top     2019-02-27  \n",
       "freq            71  "
      ]
     },
     "execution_count": 68,
     "metadata": {},
     "output_type": "execute_result"
    }
   ],
   "source": [
    "df.describe()"
   ]
  },
  {
   "cell_type": "code",
   "execution_count": 69,
   "id": "1d847394",
   "metadata": {},
   "outputs": [
    {
     "data": {
      "text/plain": [
       "array(['48ba4bdbfb56ceebb32f2bd0263e759be942af3d',\n",
       "       '05fc6f5ac66b6ee7e4253aa5d0c2299eb47aaaf4',\n",
       "       '2cdce231c1fc6a2061bfa2f1d978351fe217245d', ...,\n",
       "       '50bb3950ecde94ca3e07853003a11a413508da36',\n",
       "       '1b2c4e503a4a952064b70369cf8e72937c720474',\n",
       "       '4e85c4eac968c9465fc8d34bcd4968ac019fa850'],\n",
       "      shape=(9998,), dtype=object)"
      ]
     },
     "execution_count": 69,
     "metadata": {},
     "output_type": "execute_result"
    }
   ],
   "source": [
    "df['id'].unique()"
   ]
  },
  {
   "cell_type": "code",
   "execution_count": 70,
   "id": "a4d9debe",
   "metadata": {},
   "outputs": [
    {
     "data": {
      "text/plain": [
       "array(['MiPasajefy', 'Muebles chidos', None, 'MiPas0xFFFF', 'MiP0xFFFF'],\n",
       "      dtype=object)"
      ]
     },
     "execution_count": 70,
     "metadata": {},
     "output_type": "execute_result"
    }
   ],
   "source": [
    "df['name'].unique()"
   ]
  },
  {
   "cell_type": "code",
   "execution_count": 71,
   "id": "a3737eee",
   "metadata": {},
   "outputs": [
    {
     "data": {
      "text/plain": [
       "id               3\n",
       "name             3\n",
       "company_id       4\n",
       "amount           0\n",
       "status           0\n",
       "created_at       0\n",
       "paid_at       3991\n",
       "dtype: int64"
      ]
     },
     "execution_count": 71,
     "metadata": {},
     "output_type": "execute_result"
    }
   ],
   "source": [
    "df.isna().sum()"
   ]
  },
  {
   "cell_type": "code",
   "execution_count": 72,
   "id": "818da048",
   "metadata": {},
   "outputs": [],
   "source": [
    "df.to_csv('raw_data_extracted.csv', index=False)"
   ]
  }
 ],
 "metadata": {
  "kernelspec": {
   "display_name": "mi_entorno",
   "language": "python",
   "name": "python3"
  },
  "language_info": {
   "codemirror_mode": {
    "name": "ipython",
    "version": 3
   },
   "file_extension": ".py",
   "mimetype": "text/x-python",
   "name": "python",
   "nbconvert_exporter": "python",
   "pygments_lexer": "ipython3",
   "version": "3.11.4"
  }
 },
 "nbformat": 4,
 "nbformat_minor": 5
}
