{
 "cells": [
  {
   "cell_type": "code",
   "execution_count": null,
   "id": "0182fe71",
   "metadata": {},
   "outputs": [],
   "source": [
    "# Transformaciones realizadas:\n",
    "# 1. Renombrar columnas para mantener consistencia (e.g., 'name' → 'company_name').\n",
    "# 2. Ajuste de longitudes de strings para cumplir con los límites de las columnas en la BD.\n",
    "# 3. Conversión de tipos de datos:\n",
    "#    - 'amount' a float y luego filtrado por el máximo permitido en DECIMAL(16,2)\n",
    "#    - 'created_at' y 'paid_at' a datetime, con NaT convertidos a None para que se guarden como NULL\n",
    "# 4. Eliminación de filas incompletas (por ejemplo, si 'id', 'company_id', 'amount', 'status' o 'created_at' eran nulos)\n",
    "# 5. Manejo de valores atípicos y datos corruptos (como montos extremadamente grandes)\n",
    "#\n",
    "# Retos encontrados:\n",
    "# - Fechas en formatos mixtos (yyyy-mm-dd, dd/mm/yyyy, y yyyyMMdd) que requerían parsing personalizado.\n",
    "# - Los valores nulos en fechas que Pandas convierte a NaT y no se guardaban como NULL en la BD.\n",
    "# - Valores numéricos extremadamente grandes que excedían el límite de DECIMAL(16,2), requiriendo filtrado.\n",
    "# - Evitar que campos vacíos de texto se conviertan en la cadena 'None' al guardar en la base de datos.\n",
    "\n",
    "\n",
    "\n",
    "import pandas as pd\n",
    "from conexion import get_db_connection\n",
    "# Se carga de la tabla cruda los datos\n",
    "\n",
    "df = pd.read_csv(\"raw_data_extracted.csv\")  # Ajusta la ruta si es necesario"
   ]
  },
  {
   "cell_type": "code",
   "execution_count": null,
   "id": "05375b53",
   "metadata": {},
   "outputs": [
    {
     "data": {
      "text/html": [
       "<div>\n",
       "<style scoped>\n",
       "    .dataframe tbody tr th:only-of-type {\n",
       "        vertical-align: middle;\n",
       "    }\n",
       "\n",
       "    .dataframe tbody tr th {\n",
       "        vertical-align: top;\n",
       "    }\n",
       "\n",
       "    .dataframe thead th {\n",
       "        text-align: right;\n",
       "    }\n",
       "</style>\n",
       "<table border=\"1\" class=\"dataframe\">\n",
       "  <thead>\n",
       "    <tr style=\"text-align: right;\">\n",
       "      <th></th>\n",
       "      <th>id</th>\n",
       "      <th>name</th>\n",
       "      <th>company_id</th>\n",
       "      <th>amount</th>\n",
       "      <th>status</th>\n",
       "      <th>created_at</th>\n",
       "      <th>paid_at</th>\n",
       "    </tr>\n",
       "  </thead>\n",
       "  <tbody>\n",
       "    <tr>\n",
       "      <th>0</th>\n",
       "      <td>48ba4bdbfb56ceebb32f2bd0263e759be942af3d</td>\n",
       "      <td>MiPasajefy</td>\n",
       "      <td>cbf1c8b09cd5b549416d49d220a40cbd317f952e</td>\n",
       "      <td>3.00</td>\n",
       "      <td>voided</td>\n",
       "      <td>2019-03-19</td>\n",
       "      <td>NaN</td>\n",
       "    </tr>\n",
       "    <tr>\n",
       "      <th>1</th>\n",
       "      <td>05fc6f5ac66b6ee7e4253aa5d0c2299eb47aaaf4</td>\n",
       "      <td>MiPasajefy</td>\n",
       "      <td>cbf1c8b09cd5b549416d49d220a40cbd317f952e</td>\n",
       "      <td>3.00</td>\n",
       "      <td>pending_payment</td>\n",
       "      <td>2019-05-06</td>\n",
       "      <td>NaN</td>\n",
       "    </tr>\n",
       "    <tr>\n",
       "      <th>2</th>\n",
       "      <td>2cdce231c1fc6a2061bfa2f1d978351fe217245d</td>\n",
       "      <td>MiPasajefy</td>\n",
       "      <td>cbf1c8b09cd5b549416d49d220a40cbd317f952e</td>\n",
       "      <td>3.00</td>\n",
       "      <td>voided</td>\n",
       "      <td>2019-02-22</td>\n",
       "      <td>NaN</td>\n",
       "    </tr>\n",
       "    <tr>\n",
       "      <th>3</th>\n",
       "      <td>81633ba310a50b673efd469c37139576982901aa</td>\n",
       "      <td>MiPasajefy</td>\n",
       "      <td>cbf1c8b09cd5b549416d49d220a40cbd317f952e</td>\n",
       "      <td>102.61</td>\n",
       "      <td>paid</td>\n",
       "      <td>2019-02-27</td>\n",
       "      <td>2019-02-27</td>\n",
       "    </tr>\n",
       "    <tr>\n",
       "      <th>4</th>\n",
       "      <td>6ccfc4c24e788e4bca448df343698782db6b0c0b</td>\n",
       "      <td>MiPasajefy</td>\n",
       "      <td>cbf1c8b09cd5b549416d49d220a40cbd317f952e</td>\n",
       "      <td>184.49</td>\n",
       "      <td>paid</td>\n",
       "      <td>2019-02-05</td>\n",
       "      <td>2019-02-05</td>\n",
       "    </tr>\n",
       "  </tbody>\n",
       "</table>\n",
       "</div>"
      ],
      "text/plain": [
       "                                         id        name  \\\n",
       "0  48ba4bdbfb56ceebb32f2bd0263e759be942af3d  MiPasajefy   \n",
       "1  05fc6f5ac66b6ee7e4253aa5d0c2299eb47aaaf4  MiPasajefy   \n",
       "2  2cdce231c1fc6a2061bfa2f1d978351fe217245d  MiPasajefy   \n",
       "3  81633ba310a50b673efd469c37139576982901aa  MiPasajefy   \n",
       "4  6ccfc4c24e788e4bca448df343698782db6b0c0b  MiPasajefy   \n",
       "\n",
       "                                 company_id  amount           status  \\\n",
       "0  cbf1c8b09cd5b549416d49d220a40cbd317f952e    3.00           voided   \n",
       "1  cbf1c8b09cd5b549416d49d220a40cbd317f952e    3.00  pending_payment   \n",
       "2  cbf1c8b09cd5b549416d49d220a40cbd317f952e    3.00           voided   \n",
       "3  cbf1c8b09cd5b549416d49d220a40cbd317f952e  102.61             paid   \n",
       "4  cbf1c8b09cd5b549416d49d220a40cbd317f952e  184.49             paid   \n",
       "\n",
       "   created_at     paid_at  \n",
       "0  2019-03-19         NaN  \n",
       "1  2019-05-06         NaN  \n",
       "2  2019-02-22         NaN  \n",
       "3  2019-02-27  2019-02-27  \n",
       "4  2019-02-05  2019-02-05  "
      ]
     },
     "execution_count": 1047,
     "metadata": {},
     "output_type": "execute_result"
    }
   ],
   "source": [
    "# Vemos una vista de nuestros datos\n",
    "df.head()"
   ]
  },
  {
   "cell_type": "code",
   "execution_count": null,
   "id": "493f33d3",
   "metadata": {},
   "outputs": [
    {
     "data": {
      "text/plain": [
       "id             object\n",
       "name           object\n",
       "company_id     object\n",
       "amount        float64\n",
       "status         object\n",
       "created_at     object\n",
       "paid_at        object\n",
       "dtype: object"
      ]
     },
     "execution_count": 1048,
     "metadata": {},
     "output_type": "execute_result"
    }
   ],
   "source": [
    "# emos el tipo de dato de cada columna\n",
    "df.dtypes"
   ]
  },
  {
   "cell_type": "code",
   "execution_count": null,
   "id": "f0938c81",
   "metadata": {},
   "outputs": [
    {
     "data": {
      "text/plain": [
       "(10000, 7)"
      ]
     },
     "execution_count": 1049,
     "metadata": {},
     "output_type": "execute_result"
    }
   ],
   "source": [
    "# Vemos el número de filas y columnas de nuestro dataset\n",
    "df.shape"
   ]
  },
  {
   "cell_type": "code",
   "execution_count": null,
   "id": "82becdc2",
   "metadata": {},
   "outputs": [
    {
     "data": {
      "text/plain": [
       "id               3\n",
       "name             3\n",
       "company_id       4\n",
       "amount           0\n",
       "status           0\n",
       "created_at       0\n",
       "paid_at       3991\n",
       "dtype: int64"
      ]
     },
     "execution_count": 1050,
     "metadata": {},
     "output_type": "execute_result"
    }
   ],
   "source": [
    "# Vemos cuantas filas por columnas tienen valores nulos\n",
    "df.isna().sum()"
   ]
  },
  {
   "cell_type": "code",
   "execution_count": null,
   "id": "4f40190e",
   "metadata": {},
   "outputs": [],
   "source": [
    "# Renombramos el nombre de la columna para que coincida con el esquema dado\n",
    "df.rename(columns={'name': 'company_name'}, inplace=True)"
   ]
  },
  {
   "cell_type": "code",
   "execution_count": 1052,
   "id": "80f5d3ac",
   "metadata": {},
   "outputs": [],
   "source": [
    "# Eliminar filas con nulos en columnas donde no se admiten nulos en el esquema\n",
    "df = df.dropna(subset=['id', 'company_id', 'amount', 'status', 'created_at'])\n"
   ]
  },
  {
   "cell_type": "code",
   "execution_count": 1053,
   "id": "c6efce53",
   "metadata": {},
   "outputs": [],
   "source": [
    "# cols = [\"company_name\", \"paid_at\"]  # columnas que quieres limpiar\n",
    "# for col in cols:\n",
    "#     df[col] = df[col].where(df[col].notna(), None)\n"
   ]
  },
  {
   "cell_type": "code",
   "execution_count": null,
   "id": "c688a192",
   "metadata": {},
   "outputs": [
    {
     "data": {
      "text/plain": [
       "(9993, 7)"
      ]
     },
     "execution_count": 1054,
     "metadata": {},
     "output_type": "execute_result"
    }
   ],
   "source": [
    "# Vemos el total de filas y columnas despues de borrar las filas donde las columnas no permiten nulos (Se perdieron 7 filas)\n",
    "df.shape"
   ]
  },
  {
   "cell_type": "code",
   "execution_count": null,
   "id": "5723c7cd",
   "metadata": {},
   "outputs": [
    {
     "data": {
      "text/plain": [
       "Index(['id', 'company_name', 'company_id', 'amount', 'status', 'created_at',\n",
       "       'paid_at'],\n",
       "      dtype='object')"
      ]
     },
     "execution_count": 1055,
     "metadata": {},
     "output_type": "execute_result"
    }
   ],
   "source": [
    "# Vemos el nombre de las columnas\n",
    "df.columns"
   ]
  },
  {
   "cell_type": "markdown",
   "id": "58e3bbf4",
   "metadata": {},
   "source": [
    "## Se inicia la tranformacion de los datos en el formato del esquema"
   ]
  },
  {
   "cell_type": "code",
   "execution_count": null,
   "id": "d4d02cb4",
   "metadata": {},
   "outputs": [],
   "source": [
    "# Ajustar longitudes de strings al esquema\n",
    "df['id'] = df['id'].astype(str).str[:24]\n",
    "df['company_id'] = df['company_id'].astype(str).str[:24]\n",
    "\n",
    "# Como company_name tiene valores nulos y en el esquema se aceptan, los transformamos a none\n",
    "df['company_name'] = df['company_name'].where(df['company_name'].notna(), None)\n",
    "\n",
    "# Despues los transformamos a string con una longitud maxima de 130\n",
    "df['company_name'] = df['company_name'].astype(str).str[:130] \n",
    "\n",
    "# Como los datos nulos se transforron a none y luego estos en cadena 'None', remplazamos los None por tipo None para que posgrest los guarde como nulo\n",
    "df['company_name'] = df['company_name'].replace('None', None)\n",
    "\n",
    "# Ajustar longitudes de strings al esquema\n",
    "df['status'] = df['status'].astype(str).str[:30]\n",
    "\n",
    "\n"
   ]
  },
  {
   "cell_type": "code",
   "execution_count": null,
   "id": "345d29b4",
   "metadata": {},
   "outputs": [],
   "source": [
    "# Convertir 'amount' a decimal\n",
    "# Existen valores que superan los 16 digitos permitidos por el esquema\n",
    "max_amount = 99999999999999.99  # límite de DECIMAL(16,2)\n",
    "df['amount'] = pd.to_numeric(df['amount'], errors='coerce')  # convierte strings a números\n",
    "df = df[df['amount'] <= max_amount]  # elimina filas con valores demasiado grandes\n",
    "# df['amount'] = pd.to_numeric(df['amount'].round(2))"
   ]
  },
  {
   "cell_type": "code",
   "execution_count": 1058,
   "id": "58eff7ef",
   "metadata": {},
   "outputs": [
    {
     "data": {
      "text/html": [
       "<div>\n",
       "<style scoped>\n",
       "    .dataframe tbody tr th:only-of-type {\n",
       "        vertical-align: middle;\n",
       "    }\n",
       "\n",
       "    .dataframe tbody tr th {\n",
       "        vertical-align: top;\n",
       "    }\n",
       "\n",
       "    .dataframe thead th {\n",
       "        text-align: right;\n",
       "    }\n",
       "</style>\n",
       "<table border=\"1\" class=\"dataframe\">\n",
       "  <thead>\n",
       "    <tr style=\"text-align: right;\">\n",
       "      <th></th>\n",
       "      <th>id</th>\n",
       "      <th>company_name</th>\n",
       "      <th>company_id</th>\n",
       "      <th>amount</th>\n",
       "      <th>status</th>\n",
       "      <th>created_at</th>\n",
       "      <th>paid_at</th>\n",
       "    </tr>\n",
       "  </thead>\n",
       "  <tbody>\n",
       "    <tr>\n",
       "      <th>0</th>\n",
       "      <td>48ba4bdbfb56ceebb32f2bd0</td>\n",
       "      <td>MiPasajefy</td>\n",
       "      <td>cbf1c8b09cd5b549416d49d2</td>\n",
       "      <td>3.00</td>\n",
       "      <td>voided</td>\n",
       "      <td>2019-03-19</td>\n",
       "      <td>None</td>\n",
       "    </tr>\n",
       "    <tr>\n",
       "      <th>1</th>\n",
       "      <td>05fc6f5ac66b6ee7e4253aa5</td>\n",
       "      <td>MiPasajefy</td>\n",
       "      <td>cbf1c8b09cd5b549416d49d2</td>\n",
       "      <td>3.00</td>\n",
       "      <td>pending_payment</td>\n",
       "      <td>2019-05-06</td>\n",
       "      <td>None</td>\n",
       "    </tr>\n",
       "    <tr>\n",
       "      <th>2</th>\n",
       "      <td>2cdce231c1fc6a2061bfa2f1</td>\n",
       "      <td>MiPasajefy</td>\n",
       "      <td>cbf1c8b09cd5b549416d49d2</td>\n",
       "      <td>3.00</td>\n",
       "      <td>voided</td>\n",
       "      <td>2019-02-22</td>\n",
       "      <td>None</td>\n",
       "    </tr>\n",
       "    <tr>\n",
       "      <th>3</th>\n",
       "      <td>81633ba310a50b673efd469c</td>\n",
       "      <td>MiPasajefy</td>\n",
       "      <td>cbf1c8b09cd5b549416d49d2</td>\n",
       "      <td>102.61</td>\n",
       "      <td>paid</td>\n",
       "      <td>2019-02-27</td>\n",
       "      <td>2019-02-27 00:00:00</td>\n",
       "    </tr>\n",
       "    <tr>\n",
       "      <th>4</th>\n",
       "      <td>6ccfc4c24e788e4bca448df3</td>\n",
       "      <td>MiPasajefy</td>\n",
       "      <td>cbf1c8b09cd5b549416d49d2</td>\n",
       "      <td>184.49</td>\n",
       "      <td>paid</td>\n",
       "      <td>2019-02-05</td>\n",
       "      <td>2019-02-05 00:00:00</td>\n",
       "    </tr>\n",
       "    <tr>\n",
       "      <th>...</th>\n",
       "      <td>...</td>\n",
       "      <td>...</td>\n",
       "      <td>...</td>\n",
       "      <td>...</td>\n",
       "      <td>...</td>\n",
       "      <td>...</td>\n",
       "      <td>...</td>\n",
       "    </tr>\n",
       "    <tr>\n",
       "      <th>9995</th>\n",
       "      <td>4907c36c037bfa4874047e14</td>\n",
       "      <td>MiPasajefy</td>\n",
       "      <td>cbf1c8b09cd5b549416d49d2</td>\n",
       "      <td>59.88</td>\n",
       "      <td>paid</td>\n",
       "      <td>2019-03-14</td>\n",
       "      <td>2019-03-14 00:00:00</td>\n",
       "    </tr>\n",
       "    <tr>\n",
       "      <th>9996</th>\n",
       "      <td>ef9ec85887418d2ccf220686</td>\n",
       "      <td>MiPasajefy</td>\n",
       "      <td>cbf1c8b09cd5b549416d49d2</td>\n",
       "      <td>23.05</td>\n",
       "      <td>paid</td>\n",
       "      <td>2019-02-20</td>\n",
       "      <td>2019-02-20 00:00:00</td>\n",
       "    </tr>\n",
       "    <tr>\n",
       "      <th>9997</th>\n",
       "      <td>50bb3950ecde94ca3e078530</td>\n",
       "      <td>MiPasajefy</td>\n",
       "      <td>cbf1c8b09cd5b549416d49d2</td>\n",
       "      <td>20.50</td>\n",
       "      <td>paid</td>\n",
       "      <td>2019-03-19</td>\n",
       "      <td>2019-03-19 00:00:00</td>\n",
       "    </tr>\n",
       "    <tr>\n",
       "      <th>9998</th>\n",
       "      <td>1b2c4e503a4a952064b70369</td>\n",
       "      <td>MiPasajefy</td>\n",
       "      <td>cbf1c8b09cd5b549416d49d2</td>\n",
       "      <td>81.42</td>\n",
       "      <td>paid</td>\n",
       "      <td>2019-03-10</td>\n",
       "      <td>2019-03-10 00:00:00</td>\n",
       "    </tr>\n",
       "    <tr>\n",
       "      <th>9999</th>\n",
       "      <td>4e85c4eac968c9465fc8d34b</td>\n",
       "      <td>MiPasajefy</td>\n",
       "      <td>cbf1c8b09cd5b549416d49d2</td>\n",
       "      <td>33.45</td>\n",
       "      <td>paid</td>\n",
       "      <td>2019-03-16</td>\n",
       "      <td>2019-03-17 00:00:00</td>\n",
       "    </tr>\n",
       "  </tbody>\n",
       "</table>\n",
       "<p>9990 rows × 7 columns</p>\n",
       "</div>"
      ],
      "text/plain": [
       "                            id company_name                company_id  amount  \\\n",
       "0     48ba4bdbfb56ceebb32f2bd0   MiPasajefy  cbf1c8b09cd5b549416d49d2    3.00   \n",
       "1     05fc6f5ac66b6ee7e4253aa5   MiPasajefy  cbf1c8b09cd5b549416d49d2    3.00   \n",
       "2     2cdce231c1fc6a2061bfa2f1   MiPasajefy  cbf1c8b09cd5b549416d49d2    3.00   \n",
       "3     81633ba310a50b673efd469c   MiPasajefy  cbf1c8b09cd5b549416d49d2  102.61   \n",
       "4     6ccfc4c24e788e4bca448df3   MiPasajefy  cbf1c8b09cd5b549416d49d2  184.49   \n",
       "...                        ...          ...                       ...     ...   \n",
       "9995  4907c36c037bfa4874047e14   MiPasajefy  cbf1c8b09cd5b549416d49d2   59.88   \n",
       "9996  ef9ec85887418d2ccf220686   MiPasajefy  cbf1c8b09cd5b549416d49d2   23.05   \n",
       "9997  50bb3950ecde94ca3e078530   MiPasajefy  cbf1c8b09cd5b549416d49d2   20.50   \n",
       "9998  1b2c4e503a4a952064b70369   MiPasajefy  cbf1c8b09cd5b549416d49d2   81.42   \n",
       "9999  4e85c4eac968c9465fc8d34b   MiPasajefy  cbf1c8b09cd5b549416d49d2   33.45   \n",
       "\n",
       "               status  created_at              paid_at  \n",
       "0              voided  2019-03-19                 None  \n",
       "1     pending_payment  2019-05-06                 None  \n",
       "2              voided  2019-02-22                 None  \n",
       "3                paid  2019-02-27  2019-02-27 00:00:00  \n",
       "4                paid  2019-02-05  2019-02-05 00:00:00  \n",
       "...               ...         ...                  ...  \n",
       "9995             paid  2019-03-14  2019-03-14 00:00:00  \n",
       "9996             paid  2019-02-20  2019-02-20 00:00:00  \n",
       "9997             paid  2019-03-19  2019-03-19 00:00:00  \n",
       "9998             paid  2019-03-10  2019-03-10 00:00:00  \n",
       "9999             paid  2019-03-16  2019-03-17 00:00:00  \n",
       "\n",
       "[9990 rows x 7 columns]"
      ]
     },
     "execution_count": 1058,
     "metadata": {},
     "output_type": "execute_result"
    }
   ],
   "source": [
    "# Convertir fechas\n",
    "df['paid_at'] = pd.to_datetime(df['paid_at'], errors='coerce')  # Asigna NaT donde falla\n",
    "df['paid_at'] = df['paid_at'].astype(object)                     # cambia a object\n",
    "df['paid_at'] = df['paid_at'].where(pd.notna(df['paid_at']), None)  # reemplaza NaT por None\n",
    "df"
   ]
  },
  {
   "cell_type": "code",
   "execution_count": null,
   "id": "f4e98eab",
   "metadata": {},
   "outputs": [
    {
     "data": {
      "text/plain": [
       "array([None, Timestamp('2019-02-27 00:00:00'),\n",
       "       Timestamp('2019-02-05 00:00:00'), Timestamp('2019-01-22 00:00:00'),\n",
       "       Timestamp('2019-01-12 00:00:00'), Timestamp('2019-03-29 00:00:00'),\n",
       "       Timestamp('2019-05-18 00:00:00'), Timestamp('2019-04-16 00:00:00'),\n",
       "       Timestamp('2019-03-04 00:00:00'), Timestamp('2019-04-03 00:00:00'),\n",
       "       Timestamp('2019-05-10 00:00:00'), Timestamp('2019-01-02 00:00:00'),\n",
       "       Timestamp('2019-04-11 00:00:00'), Timestamp('2019-03-01 00:00:00'),\n",
       "       Timestamp('2019-03-10 00:00:00'), Timestamp('2019-02-07 00:00:00'),\n",
       "       Timestamp('2019-03-15 00:00:00'), Timestamp('2019-04-29 00:00:00'),\n",
       "       Timestamp('2019-04-02 00:00:00'), Timestamp('2019-03-20 00:00:00'),\n",
       "       Timestamp('2019-05-15 00:00:00'), Timestamp('2019-04-04 00:00:00'),\n",
       "       Timestamp('2019-01-08 00:00:00'), Timestamp('2019-03-18 00:00:00'),\n",
       "       Timestamp('2019-03-08 00:00:00'), Timestamp('2019-04-24 00:00:00'),\n",
       "       Timestamp('2019-02-18 00:00:00'), Timestamp('2019-04-25 00:00:00'),\n",
       "       Timestamp('2019-02-13 00:00:00'), Timestamp('2019-01-05 00:00:00'),\n",
       "       Timestamp('2019-03-23 00:00:00'), Timestamp('2019-03-12 00:00:00'),\n",
       "       Timestamp('2019-03-27 00:00:00'), Timestamp('2019-02-12 00:00:00'),\n",
       "       Timestamp('2019-05-04 00:00:00'), Timestamp('2019-01-24 00:00:00'),\n",
       "       Timestamp('2019-04-14 00:00:00'), Timestamp('2019-05-16 00:00:00'),\n",
       "       Timestamp('2019-03-16 00:00:00'), Timestamp('2019-01-04 00:00:00'),\n",
       "       Timestamp('2019-01-14 00:00:00'), Timestamp('2019-01-09 00:00:00'),\n",
       "       Timestamp('2019-02-02 00:00:00'), Timestamp('2019-03-21 00:00:00'),\n",
       "       Timestamp('2019-05-13 00:00:00'), Timestamp('2019-03-19 00:00:00'),\n",
       "       Timestamp('2019-04-01 00:00:00'), Timestamp('2019-04-17 00:00:00'),\n",
       "       Timestamp('2019-04-12 00:00:00'), Timestamp('2019-01-30 00:00:00'),\n",
       "       Timestamp('2019-03-24 00:00:00'), Timestamp('2019-02-20 00:00:00'),\n",
       "       Timestamp('2019-01-21 00:00:00'), Timestamp('2019-03-26 00:00:00'),\n",
       "       Timestamp('2019-05-14 00:00:00'), Timestamp('2019-02-19 00:00:00'),\n",
       "       Timestamp('2019-01-10 00:00:00'), Timestamp('2019-01-03 00:00:00'),\n",
       "       Timestamp('2019-02-14 00:00:00'), Timestamp('2019-01-18 00:00:00'),\n",
       "       Timestamp('2019-03-28 00:00:00'), Timestamp('2019-05-06 00:00:00'),\n",
       "       Timestamp('2019-03-03 00:00:00'), Timestamp('2019-03-13 00:00:00'),\n",
       "       Timestamp('2019-02-23 00:00:00'), Timestamp('2019-04-10 00:00:00'),\n",
       "       Timestamp('2019-03-14 00:00:00'), Timestamp('2019-03-05 00:00:00'),\n",
       "       Timestamp('2019-01-16 00:00:00'), Timestamp('2019-01-11 00:00:00'),\n",
       "       Timestamp('2019-04-05 00:00:00'), Timestamp('2019-05-08 00:00:00'),\n",
       "       Timestamp('2019-01-27 00:00:00'), Timestamp('2019-05-19 00:00:00'),\n",
       "       Timestamp('2019-03-22 00:00:00'), Timestamp('2019-04-19 00:00:00'),\n",
       "       Timestamp('2019-01-17 00:00:00'), Timestamp('2019-03-30 00:00:00'),\n",
       "       Timestamp('2019-04-07 00:00:00'), Timestamp('2019-02-22 00:00:00'),\n",
       "       Timestamp('2019-05-02 00:00:00'), Timestamp('2019-02-25 00:00:00'),\n",
       "       Timestamp('2019-03-02 00:00:00'), Timestamp('2019-02-28 00:00:00'),\n",
       "       Timestamp('2019-04-06 00:00:00'), Timestamp('2019-01-29 00:00:00'),\n",
       "       Timestamp('2019-04-27 00:00:00'), Timestamp('2019-02-15 00:00:00'),\n",
       "       Timestamp('2019-01-26 00:00:00'), Timestamp('2019-03-06 00:00:00'),\n",
       "       Timestamp('2019-02-01 00:00:00'), Timestamp('2019-05-09 00:00:00'),\n",
       "       Timestamp('2019-01-07 00:00:00'), Timestamp('2019-02-17 00:00:00'),\n",
       "       Timestamp('2019-05-17 00:00:00'), Timestamp('2019-03-25 00:00:00'),\n",
       "       Timestamp('2019-02-11 00:00:00'), Timestamp('2019-01-20 00:00:00'),\n",
       "       Timestamp('2019-04-22 00:00:00'), Timestamp('2019-04-26 00:00:00'),\n",
       "       Timestamp('2019-01-23 00:00:00'), Timestamp('2019-04-09 00:00:00'),\n",
       "       Timestamp('2019-04-15 00:00:00'), Timestamp('2019-01-13 00:00:00'),\n",
       "       Timestamp('2019-04-23 00:00:00'), Timestamp('2019-04-30 00:00:00'),\n",
       "       Timestamp('2019-05-03 00:00:00'), Timestamp('2019-02-06 00:00:00'),\n",
       "       Timestamp('2019-01-31 00:00:00'), Timestamp('2019-02-04 00:00:00'),\n",
       "       Timestamp('2019-02-26 00:00:00'), Timestamp('2019-01-06 00:00:00'),\n",
       "       Timestamp('2019-01-25 00:00:00'), Timestamp('2019-05-07 00:00:00'),\n",
       "       Timestamp('2019-01-28 00:00:00'), Timestamp('2019-04-21 00:00:00'),\n",
       "       Timestamp('2019-03-11 00:00:00'), Timestamp('2019-02-03 00:00:00'),\n",
       "       Timestamp('2019-05-05 00:00:00'), Timestamp('2019-02-09 00:00:00'),\n",
       "       Timestamp('2019-04-13 00:00:00'), Timestamp('2019-04-28 00:00:00'),\n",
       "       Timestamp('2019-01-19 00:00:00'), Timestamp('2019-03-17 00:00:00'),\n",
       "       Timestamp('2019-04-20 00:00:00'), Timestamp('2019-04-08 00:00:00'),\n",
       "       Timestamp('2019-02-08 00:00:00'), Timestamp('2019-02-24 00:00:00'),\n",
       "       Timestamp('2019-05-12 00:00:00'), Timestamp('2019-01-15 00:00:00'),\n",
       "       Timestamp('2019-03-07 00:00:00'), Timestamp('2019-02-16 00:00:00'),\n",
       "       Timestamp('2019-05-01 00:00:00'), Timestamp('2019-02-21 00:00:00'),\n",
       "       Timestamp('2019-05-20 00:00:00'), Timestamp('2019-02-10 00:00:00'),\n",
       "       Timestamp('2019-03-09 00:00:00'), Timestamp('2019-01-01 00:00:00'),\n",
       "       Timestamp('2019-03-31 00:00:00'), Timestamp('2019-04-18 00:00:00'),\n",
       "       Timestamp('2019-05-11 00:00:00')], dtype=object)"
      ]
     },
     "execution_count": 1059,
     "metadata": {},
     "output_type": "execute_result"
    }
   ],
   "source": [
    "# Revisamos que los valores nulos esten entipo de dato None para que se guarden en la base de datos como nulos\n",
    "df['paid_at'].unique()"
   ]
  },
  {
   "cell_type": "code",
   "execution_count": null,
   "id": "a6563e51",
   "metadata": {},
   "outputs": [
    {
     "data": {
      "text/plain": [
       "array(['2019-03-19', '2019-05-06', '2019-02-22', '2019-02-27',\n",
       "       '2019-02-05', '2019-01-04', '2019-05-04', '2019-01-23',\n",
       "       '2019-05-03', '2019-01-22', '2019-03-02', '2019-01-12',\n",
       "       '2019-03-29', '2019-05-18', '2019-01-10', '2019-01-11',\n",
       "       '2019-02-16', '2019-04-16', '2019-05-10', '2019-01-03',\n",
       "       '2019-03-04', '2019-04-03', '2019-01-15', '2019-01-02',\n",
       "       '2019-04-11', '2019-03-01', '2019-03-08', '2019-03-10',\n",
       "       '2019-02-07', '2019-03-14', '2019-03-15', '2019-03-22',\n",
       "       '2019-04-29', '2019-05-02', '2019-05-12', '2019-04-02',\n",
       "       '2019-05-05', '2019-04-12', '2019-01-16', '2019-03-20',\n",
       "       '2019-05-15', '2019-05-09', '2019-04-04', '2019-01-08',\n",
       "       '2019-03-18', '2019-04-08', '2019-04-24', '2019-02-18',\n",
       "       '2019-03-28', '2019-05-19', '2019-02-24', '2019-01-31',\n",
       "       '2019-04-25', '2019-02-13', '2019-01-05', '2019-02-12',\n",
       "       '2019-03-23', '2019-01-24', '2019-02-21', '2019-02-19',\n",
       "       '2019-03-12', '2019-03-27', '2019-02-14', '2019-04-30',\n",
       "       '2019-04-14', '2019-05-16', '2019-03-24', '2019-03-16',\n",
       "       '2019-01-14', '2019-02-08', '2019-01-21', '2019-01-09',\n",
       "       '2019-02-02', '2019-03-21', '2019-05-13', '2019-03-26',\n",
       "       '2019-04-01', '2019-04-15', '2019-04-17', '2019-02-17',\n",
       "       '2019-02-11', '2019-01-30', '2019-02-20', '2019-05-14',\n",
       "       '2019-02-10', '2019-01-01', '2019-03-31', '2019-01-07',\n",
       "       '2019-01-20', '2019-01-18', '2019-03-17', '2019-03-09',\n",
       "       '2019-01-17', '2019-03-03', '2019-03-13', '2019-02-03',\n",
       "       '2019-02-23', '2019-04-10', '2019-03-05', '2019-02-25',\n",
       "       '2019-04-06', '2019-05-20', '2019-04-05', '2019-05-08',\n",
       "       '2019-01-27', '2019-02-04', '2019-03-11', '2019-04-19',\n",
       "       '2019-03-30', '2019-05-01', '2019-04-07', '2019-04-09',\n",
       "       '2019-01-19', '2019-05-07', '2019-04-27', '2019-04-28',\n",
       "       '2019-03-07', '2019-02-28', '2019-01-29', '2019-02-01',\n",
       "       '2019-01-13', '2019-02-15', '2019-01-26', '2019-02-09',\n",
       "       '2019-03-06', '2019-01-28', '2019-01-06', '2019-05-17',\n",
       "       '2019-04-26', '2019-03-25', '2019-04-21', '2019-04-22',\n",
       "       '2019-04-23', '2019-02-06', '2019-02-26', '2019-01-25',\n",
       "       '2019-04-20', '2019-05-11', '2019-04-13', '2019-02-27T00:00:00',\n",
       "       '20190516', '20190121', '2019-04-18'], dtype=object)"
      ]
     },
     "execution_count": 1060,
     "metadata": {},
     "output_type": "execute_result"
    }
   ],
   "source": [
    "# Observamos que la columna created_at tienen distintos formatos las fechas\n",
    "df['created_at'].unique()"
   ]
  },
  {
   "cell_type": "code",
   "execution_count": null,
   "id": "5e9d72b1",
   "metadata": {},
   "outputs": [],
   "source": [
    "# Creamos una función para convertirlos las fechas que tienen otro formato al de la mayoría\n",
    "\n",
    "def parse_fecha(x):\n",
    "    try:\n",
    "        # Principal: dd/mm/yyyy\n",
    "        return pd.to_datetime(x)\n",
    "    except:\n",
    "        # Formatos específicos sin dayfirst\n",
    "        for fmt in (\"%Y-%m-%dT%H:%M:%S\", \"%Y%m%d\"):\n",
    "            try:\n",
    "                return pd.to_datetime(x, format=fmt)\n",
    "            except:\n",
    "                continue\n",
    "        return pd.NaT\n",
    "\n",
    "df['created_at'] = df['created_at'].apply(parse_fecha)\n",
    "\n"
   ]
  },
  {
   "cell_type": "code",
   "execution_count": 1062,
   "id": "c7c3e472",
   "metadata": {},
   "outputs": [],
   "source": [
    "# # Convertir strings a datetime, NaT donde no se pueda\n",
    "# df['paid_at'] = pd.to_datetime(df['paid_at'])\n",
    "\n",
    "# # Reemplazar NaT por None y asegurar tipo object\n",
    "# df['paid_at'] = df['paid_at'].apply(lambda x: x if pd.notna(x) else None).astype(object)\n",
    "\n",
    "# type(df.iloc[0]['paid_at'])\n"
   ]
  },
  {
   "cell_type": "code",
   "execution_count": null,
   "id": "398816cd",
   "metadata": {},
   "outputs": [
    {
     "data": {
      "text/plain": [
       "array(['MiPasajefy', 'Muebles chidos', None, 'MiPas0xFFFF', 'MiP0xFFFF'],\n",
       "      dtype=object)"
      ]
     },
     "execution_count": 1063,
     "metadata": {},
     "output_type": "execute_result"
    }
   ],
   "source": [
    "# Confirmamos que los valores nulos en company_name esten como tipo de dato None para que se guarden nulos en la base de datos\n",
    "df['company_name'].unique()"
   ]
  },
  {
   "cell_type": "code",
   "execution_count": null,
   "id": "94ff014c",
   "metadata": {},
   "outputs": [
    {
     "data": {
      "text/plain": [
       "id                 0\n",
       "company_name       3\n",
       "company_id         0\n",
       "amount             0\n",
       "status             0\n",
       "created_at         0\n",
       "paid_at         3984\n",
       "dtype: int64"
      ]
     },
     "execution_count": 1064,
     "metadata": {},
     "output_type": "execute_result"
    }
   ],
   "source": [
    "# Revisamos cuantos valores nulos nos quedan por columna y confirmamos las que no deben ser nulos por no permitirlo el esquema\n",
    "# Observamos que solo tenemnos valores nulos en las columnas que si lo permite el esquema\n",
    "df.isna().sum()"
   ]
  },
  {
   "cell_type": "code",
   "execution_count": null,
   "id": "cc82fa6d",
   "metadata": {},
   "outputs": [],
   "source": [
    "# Se guardan en csv los datos_transformados que cumplen con el esquema dado en las instrucciones de la prueba\n",
    "\n",
    "df.to_csv('transformed_data.csv')"
   ]
  },
  {
   "cell_type": "code",
   "execution_count": null,
   "id": "e0760b0b",
   "metadata": {},
   "outputs": [
    {
     "name": "stdout",
     "output_type": "stream",
     "text": [
      "✅ Tabla 'transformed_data' creada\n",
      "✅ CSV cargado en la tabla 'transformed_dta'\n"
     ]
    }
   ],
   "source": [
    "# Se crea la tabla conforme al esquema y se confirma que los datos se puedan cargar\n",
    "\n",
    "\n",
    "conn = get_db_connection()\n",
    "cur = conn.cursor()\n",
    "\n",
    "cur.execute(\"\"\"\n",
    "CREATE TABLE IF NOT EXISTS transformed_data (\n",
    "    id VARCHAR(24) NOT NULL,\n",
    "    company_name VARCHAR(130) NULL,\n",
    "    company_id VARCHAR(24) NOT NULL,\n",
    "    amount DECIMAL(16,2) NOT NULL,\n",
    "    status VARCHAR(30) NOT NULL,\n",
    "    created_at TIMESTAMP NOT NULL,\n",
    "    paid_at TIMESTAMP NULL\n",
    ")\n",
    "\"\"\")\n",
    "conn.commit()\n",
    "print(\"✅ Tabla 'transformed_data' creada\")\n",
    "\n",
    "# df = df.where(pd.notnull(df), None)\n",
    "# df = df.where(pd.notna(df), None)\n",
    "# df['paid_at'] = df['paid_at'].where(pd.notna(df['paid_at']), None)\n",
    "\n",
    "for row in df.itertuples(index=False):\n",
    "    cur.execute(\"\"\"\n",
    "        INSERT INTO transformed_data (id, company_name, company_id, amount, status, created_at, paid_at)\n",
    "        VALUES (%s, %s, %s, %s, %s, %s, %s)\n",
    "    \"\"\",  row)\n",
    "\n",
    "conn.commit()\n",
    "cur.close()\n",
    "conn.close()\n",
    "print(\"✅ CSV cargado en la tabla 'transformed_dta'\")"
   ]
  }
 ],
 "metadata": {
  "kernelspec": {
   "display_name": "mi_entorno",
   "language": "python",
   "name": "python3"
  },
  "language_info": {
   "codemirror_mode": {
    "name": "ipython",
    "version": 3
   },
   "file_extension": ".py",
   "mimetype": "text/x-python",
   "name": "python",
   "nbconvert_exporter": "python",
   "pygments_lexer": "ipython3",
   "version": "3.11.4"
  }
 },
 "nbformat": 4,
 "nbformat_minor": 5
}
